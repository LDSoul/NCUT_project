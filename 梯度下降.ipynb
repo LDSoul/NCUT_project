{
  "nbformat": 4,
  "nbformat_minor": 0,
  "metadata": {
    "colab": {
      "name": "梯度下降1.ipynb",
      "provenance": [],
      "collapsed_sections": [],
      "authorship_tag": "ABX9TyPh3YOR6hfwbzexkyiEBDlh",
      "include_colab_link": true
    },
    "kernelspec": {
      "name": "python3",
      "display_name": "Python 3"
    }
  },
  "cells": [
    {
      "cell_type": "markdown",
      "metadata": {
        "id": "view-in-github",
        "colab_type": "text"
      },
      "source": [
        "<a href=\"https://colab.research.google.com/github/LDSoul/NCUT_project/blob/master/%E6%A2%AF%E5%BA%A6%E4%B8%8B%E9%99%8D.ipynb\" target=\"_parent\"><img src=\"https://colab.research.google.com/assets/colab-badge.svg\" alt=\"Open In Colab\"/></a>"
      ]
    },
    {
      "cell_type": "code",
      "metadata": {
        "id": "729E-3mGgRfQ",
        "colab_type": "code",
        "colab": {
          "base_uri": "https://localhost:8080/",
          "height": 295
        },
        "outputId": "031128e9-2917-41d8-e53a-c162d73321da"
      },
      "source": [
        "import numpy as np\n",
        "import matplotlib.pyplot as plt\n",
        "\n",
        "# 學習率\n",
        "alpha = 0.1\n",
        "\n",
        "# 初始位置\n",
        "w_init = 5\n",
        "\n",
        "x = np.arange(-6, 6.1, 0.1) #跌代範圍-6~6.1 每次0.1 為陣列元素{-6.1 -6.0 -5.9....6.1}\n",
        "y = x**2 #平方處裡\n",
        "plt.plot(x, y) #繪出x,y資料的圖 藍色線\n",
        "\n",
        "plt.xlabel('w') #X座標的label\n",
        "plt.ylabel('E(w)')  #Y座標的label\n",
        "plt.title('E(w)=w^2')  #座標上方標題\n",
        "plt.grid(True) #顯示網格\n",
        "\n",
        "w_old = 0; w_new = 0\n",
        "for i in range(1, 11):\n",
        "    if i == 1: #i=1 給初值\n",
        "        w_old = w_init\n",
        "    else: \n",
        "        w_old = w_new\n",
        "    \n",
        "    # (2*w_old) 為二次函數的的微分式\n",
        "    w_new = w_old - alpha * (2*w_old) # 梯度下降w*=w-學習率 x E'(w)\n",
        "    \n",
        "    #plt.plot((x1,x2),(y1,y2))\n",
        "    plt.plot((w_old, w_new), (w_old**2, w_new**2), 'ro-') #ro沒有用線連起來 ro-用線連起來\n",
        "    plt.title('E(w)=w^2, error=' + '{:.2f}'.format(abs(w_new**2))) #取小數點2位 abs:絕對值"
      ],
      "execution_count": null,
      "outputs": [
        {
          "output_type": "display_data",
          "data": {
            "image/png": "[encoded data removed]",
            "text/plain": [
              "<Figure size 432x288 with 1 Axes>"
            ]
          },
          "metadata": {
            "tags": [],
            "needs_background": "light"
          }
        }
      ]
    },
    {
      "cell_type": "code",
      "metadata": {
        "id": "EEXWMe3AgelB",
        "colab_type": "code",
        "colab": {
          "base_uri": "https://localhost:8080/",
          "height": 300
        },
        "outputId": "48866dea-0ff0-4125-aa61-1351f246aef2"
      },
      "source": [
        "#===資料方面 線性回歸\n",
        "import numpy as np\n",
        "import matplotlib.pyplot as plt\n",
        "\n",
        "# 給定隨機種子\n",
        "np.random.seed(1)\n",
        "\n",
        "# =============================================== #\n",
        "# functions\n",
        "\n",
        "def getdata(n):\n",
        "    # n為產生資料量\n",
        "\n",
        "    # 給定一個固定的參數，再加上隨機變動值作為雜訊\n",
        "    # 其雜訊變動值介於 -10 ～ 10 之間\n",
        "    x = np.arange(-5, 5.1, 10/(n-1))\n",
        "    y = 3*x + 2 + (np.random.rand(len(x))-0.5)*20\n",
        "    return x, y\n",
        "\n",
        "# =============================================== #\n",
        "# 產生一組資料，共51筆。\n",
        "\n",
        "#可加可不佳\n",
        "from sklearn.linear_model import LinearRegression\n",
        "\n",
        "#首先開一台線性回歸機\n",
        "regr = LinearRegression()\n",
        "\n",
        "#目前x array是1x51的矩陣\n",
        "#但是要做線性回歸計算的話，需改成 51x1 array\n",
        "x, y = getdata(51)\n",
        "\n",
        "# 繪圖\n",
        "plt.plot(x, y, 'bo')\n",
        "plt.grid('true')\n",
        "plt.ylim(-30, 30)\n",
        "plt.xlabel('x')\n",
        "plt.ylabel('f(x)')\n",
        "\n",
        "#將X設為51*1的矩陣\n",
        "X = x.reshape(51,1)\n",
        "\n",
        "#?\n",
        "regr.fit(X,y)\n",
        "Y = regr.predict(X)\n",
        "\n",
        "#最後檢查機器學習出來的曲線是否跟原本的曲線接近\n",
        "plt.scatter(x,y)\n",
        "plt.plot(x,3 * x + 2,'r') #原本曲線\n",
        "plt.plot(x,Y,'g') #訓練出來取線\n",
        "#當綠線與紅線非常接近時 表示成功"
      ],
      "execution_count": null,
      "outputs": [
        {
          "output_type": "execute_result",
          "data": {
            "text/plain": [
              "[<matplotlib.lines.Line2D at 0x7f574cab2278>]"
            ]
          },
          "metadata": {
            "tags": []
          },
          "execution_count": 39
        },
        {
          "output_type": "display_data",
          "data": {
            "image/png": "[encoded data removed]",
            "text/plain": [
              "<Figure size 432x288 with 1 Axes>"
            ]
          },
          "metadata": {
            "tags": [],
            "needs_background": "light"
          }
        }
      ]
    },
    {
      "cell_type": "code",
      "metadata": {
        "id": "ptoiOqTZHN3l",
        "colab_type": "code",
        "colab": {}
      },
      "source": [
        ""
      ],
      "execution_count": null,
      "outputs": []
    },
    {
      "cell_type": "code",
      "metadata": {
        "id": "NqQ6V2Dkw279",
        "colab_type": "code",
        "colab": {
          "base_uri": "https://localhost:8080/",
          "height": 50
        },
        "outputId": "9122b116-4133-40fe-9fe4-746d9271afa4"
      },
      "source": [
        "#\n",
        "import numpy as np\n",
        "from sklearn.linear_model import LinearRegression\n",
        "\n",
        "X = np.array([\n",
        "    [10, 80], [8, 0], [8, 200], [5, 200], [7, 300], [8, 230], [7, 40], [9, 0], [6, 330], [9, 180]\n",
        "])\n",
        "y = np.array([469, 366, 371, 208, 246, 297, 363, 436, 198, 364])\n",
        "\n",
        "lm = LinearRegression()\n",
        "lm.fit(X, y)\n",
        "\n",
        "# 印出係數\n",
        "print(lm.coef_)\n",
        "\n",
        "# 印出截距\n",
        "print(lm.intercept_ )"
      ],
      "execution_count": null,
      "outputs": [
        {
          "output_type": "stream",
          "text": [
            "[41.51347826 -0.34088269]\n",
            "65.32391638894836\n"
          ],
          "name": "stdout"
        }
      ]
    },
    {
      "cell_type": "code",
      "metadata": {
        "id": "-z6z-kRG-Ur8",
        "colab_type": "code",
        "colab": {
          "base_uri": "https://localhost:8080/",
          "height": 582
        },
        "outputId": "35a2fdd7-075c-45aa-aa8b-54b69690f0d7"
      },
      "source": [
        "import numpy as np\n",
        "import matplotlib.pyplot as plt\n",
        "\n",
        "# 目標函數:y=x^2\n",
        "def func(x): return np.square(x)\n",
        "\n",
        "# 目標函數一階導數:dy/dx=2*x\n",
        "def dfunc(x): return 2 * x\n",
        "\n",
        "def GD(x_start, df, epochs, lr):    \n",
        "    \"\"\"  梯度下降法。給定起始點與目標函數的一階導函數，求在epochs次反覆運算中x的更新值\n",
        "        :param x_start: x的起始點    \n",
        "        :param df: 目標函數的一階導函數    \n",
        "        :param epochs: 反覆運算週期    \n",
        "        :param lr: 學習率    \n",
        "        :return: x在每次反覆運算後的位置（包括起始點），長度為epochs+1    \n",
        "     \"\"\"    \n",
        "    xs = np.zeros(epochs+1)    \n",
        "    x = x_start    \n",
        "    xs[0] = x    \n",
        "    for i in range(epochs):         \n",
        "        dx = df(x)        \n",
        "        # v表示x要改變的幅度        \n",
        "        v = - dx * lr        \n",
        "        x += v        \n",
        "        xs[i+1] = x  \n",
        "        print(xs[i]) \n",
        "    return xs\n",
        "\n",
        "# Main\n",
        "# 起始權重\n",
        "x_start = 5    \n",
        "# 執行週期數\n",
        "epochs = 15 \n",
        "# 學習率   \n",
        "lr = 0.3   \n",
        "# 梯度下降法 \n",
        "x = GD(x_start, dfunc, epochs, lr=lr) \n",
        "print (x)\n",
        "# 輸出：[-5.     -2.     -0.8    -0.32   -0.128  -0.0512]\n",
        "\n",
        "color = 'r'    \n",
        "#plt.plot(line_x, line_y, c='b')    \n",
        "from numpy import arange\n",
        "t = arange(-6.0, 6.0, 0.01)\n",
        "plt.plot(t, func(t), c='b')\n",
        "plt.plot(x, func(x), c=color, label='lr={}'.format(lr))    \n",
        "plt.scatter(x, func(x), c=color, )    \n",
        "plt.legend()\n",
        "\n",
        "plt.show()\n"
      ],
      "execution_count": null,
      "outputs": [
        {
          "output_type": "stream",
          "text": [
            "5.0\n",
            "2.0\n",
            "0.8\n",
            "0.32000000000000006\n",
            "0.12800000000000003\n",
            "0.05120000000000001\n",
            "0.020480000000000005\n",
            "0.008192000000000003\n",
            "0.0032768000000000016\n",
            "0.001310720000000001\n",
            "0.0005242880000000004\n",
            "0.00020971520000000014\n",
            "8.388608000000006e-05\n",
            "3.3554432000000026e-05\n",
            "1.342177280000001e-05\n",
            "[5.00000000e+00 2.00000000e+00 8.00000000e-01 3.20000000e-01\n",
            " 1.28000000e-01 5.12000000e-02 2.04800000e-02 8.19200000e-03\n",
            " 3.27680000e-03 1.31072000e-03 5.24288000e-04 2.09715200e-04\n",
            " 8.38860800e-05 3.35544320e-05 1.34217728e-05 5.36870912e-06]\n"
          ],
          "name": "stdout"
        },
        {
          "output_type": "display_data",
          "data": {
            "image/png": "[encoded data removed]",
            "text/plain": [
              "<Figure size 432x288 with 1 Axes>"
            ]
          },
          "metadata": {
            "tags": [],
            "needs_background": "light"
          }
        }
      ]
    },
    {
      "cell_type": "code",
      "metadata": {
        "id": "LjdAqveZ-EO3",
        "colab_type": "code",
        "colab": {}
      },
      "source": [
        ""
      ],
      "execution_count": null,
      "outputs": []
    },
    {
      "cell_type": "code",
      "metadata": {
        "id": "_ifq5Ds3NbEo",
        "colab_type": "code",
        "colab": {}
      },
      "source": [
        ""
      ],
      "execution_count": null,
      "outputs": []
    },
    {
      "cell_type": "code",
      "metadata": {
        "id": "mdqip4ndDEme",
        "colab_type": "code",
        "colab": {}
      },
      "source": [
        ""
      ],
      "execution_count": null,
      "outputs": []
    }
  ]
}