{
  "nbformat": 4,
  "nbformat_minor": 0,
  "metadata": {
    "colab": {
      "name": "初心者(Train Test運用).ipynb",
      "provenance": [],
      "collapsed_sections": [],
      "authorship_tag": "ABX9TyPABmg/zFZQ6cdyd0cqezC1",
      "include_colab_link": true
    },
    "kernelspec": {
      "name": "python3",
      "display_name": "Python 3"
    }
  },
  "cells": [
    {
      "cell_type": "markdown",
      "metadata": {
        "id": "view-in-github",
        "colab_type": "text"
      },
      "source": [
        "<a href=\"https://colab.research.google.com/github/LDSoul/NCUT_project/blob/master/%E5%88%9D%E5%BF%83%E8%80%85(Train_Test%E9%81%8B%E7%94%A8).ipynb\" target=\"_parent\"><img src=\"https://colab.research.google.com/assets/colab-badge.svg\" alt=\"Open In Colab\"/></a>"
      ]
    },
    {
      "cell_type": "code",
      "metadata": {
        "id": "I9MMelUcwEYb",
        "colab_type": "code",
        "colab": {
          "base_uri": "https://localhost:8080/",
          "height": 281
        },
        "outputId": "84fccad0-03b0-4d78-b2bb-e40749db8ed9"
      },
      "source": [
        "%matplotlib inline\n",
        "import numpy as np\n",
        "import matplotlib.pyplot as plt\n",
        "\n",
        "#將線性回歸函式庫載入\n",
        "from sklearn.linear_model import LinearRegression\n",
        "\n",
        "#產生假資料\n",
        "x = np.linspace(0,5,100) #在指定的間隔返回均勻數字 [start,stop,數量]\n",
        "y = 1.2 * x + 0.8 + 0.5 * np.random.randn(100) \n",
        "\n",
        "plt.scatter(x,y)"
      ],
      "execution_count": null,
      "outputs": [
        {
          "output_type": "execute_result",
          "data": {
            "text/plain": [
              "<matplotlib.collections.PathCollection at 0x7f7597602128>"
            ]
          },
          "metadata": {
            "tags": []
          },
          "execution_count": 1
        },
        {
          "output_type": "display_data",
          "data": {
            "image/png": "[encoded data removed]",
            "text/plain": [
              "<Figure size 432x288 with 1 Axes>"
            ]
          },
          "metadata": {
            "tags": [],
            "needs_background": "light"
          }
        }
      ]
    },
    {
      "cell_type": "code",
      "metadata": {
        "id": "R7CUmCJXytYk",
        "colab_type": "code",
        "colab": {
          "base_uri": "https://localhost:8080/",
          "height": 585
        },
        "outputId": "a04dd5bd-0baa-4610-f229-a5b492f3918c"
      },
      "source": [
        "print(x)\n",
        "print(y)"
      ],
      "execution_count": null,
      "outputs": [
        {
          "output_type": "stream",
          "text": [
            "[0.         0.05050505 0.1010101  0.15151515 0.2020202  0.25252525\n",
            " 0.3030303  0.35353535 0.4040404  0.45454545 0.50505051 0.55555556\n",
            " 0.60606061 0.65656566 0.70707071 0.75757576 0.80808081 0.85858586\n",
            " 0.90909091 0.95959596 1.01010101 1.06060606 1.11111111 1.16161616\n",
            " 1.21212121 1.26262626 1.31313131 1.36363636 1.41414141 1.46464646\n",
            " 1.51515152 1.56565657 1.61616162 1.66666667 1.71717172 1.76767677\n",
            " 1.81818182 1.86868687 1.91919192 1.96969697 2.02020202 2.07070707\n",
            " 2.12121212 2.17171717 2.22222222 2.27272727 2.32323232 2.37373737\n",
            " 2.42424242 2.47474747 2.52525253 2.57575758 2.62626263 2.67676768\n",
            " 2.72727273 2.77777778 2.82828283 2.87878788 2.92929293 2.97979798\n",
            " 3.03030303 3.08080808 3.13131313 3.18181818 3.23232323 3.28282828\n",
            " 3.33333333 3.38383838 3.43434343 3.48484848 3.53535354 3.58585859\n",
            " 3.63636364 3.68686869 3.73737374 3.78787879 3.83838384 3.88888889\n",
            " 3.93939394 3.98989899 4.04040404 4.09090909 4.14141414 4.19191919\n",
            " 4.24242424 4.29292929 4.34343434 4.39393939 4.44444444 4.49494949\n",
            " 4.54545455 4.5959596  4.64646465 4.6969697  4.74747475 4.7979798\n",
            " 4.84848485 4.8989899  4.94949495 5.        ]\n",
            "[ 0.5372261   0.50777425  0.99222926 -0.01998534  1.30853281  1.3029676\n",
            "  1.85097925  1.85866584  1.33457467  1.83453255  1.75335275  1.97740113\n",
            "  1.57463953  1.41438103  1.43985725  0.71779836  2.17723547  1.83429909\n",
            "  1.9484978   2.43604324  2.56145011  2.23845724  1.78157228  1.80258173\n",
            "  0.52421117  2.17799384  2.58539078  1.97105138  2.20672859  3.61757773\n",
            "  1.01144978  3.11416214  3.60073189  2.99546295  3.16609012  2.47444556\n",
            "  2.75869922  3.08966495  3.70331261  2.91316681  2.95080115  3.54238803\n",
            "  4.01935185  2.9167925   3.40032952  3.53833561  3.45336537  3.58889736\n",
            "  4.14477935  3.81472478  4.46567603  2.86434188  4.81019928  3.71823411\n",
            "  3.92728883  4.05609202  4.30807997  4.04977835  4.40817932  2.87173454\n",
            "  5.38093096  4.96399867  4.40058423  4.4993219   5.23852728  4.73669227\n",
            "  4.43389092  5.68665085  4.86896166  4.28623457  5.53150822  5.05684529\n",
            "  5.69200216  4.95567155  5.02004095  5.22488726  5.28010459  6.03198315\n",
            "  5.9742982   5.49614496  5.86269257  5.7781235   5.25595362  5.80067935\n",
            "  4.75477829  5.54894706  6.23455965  5.24252851  5.38810324  6.74931188\n",
            "  4.97314252  6.42995425  6.45715103  6.10647729  6.09023711  7.59864741\n",
            "  7.04743528  6.80995611  6.60758096  6.90826564]\n"
          ],
          "name": "stdout"
        }
      ]
    },
    {
      "cell_type": "code",
      "metadata": {
        "id": "gMUY2I2Vwso6",
        "colab_type": "code",
        "colab": {
          "base_uri": "https://localhost:8080/",
          "height": 33
        },
        "outputId": "34b73834-e8f6-48d6-9a85-05e446196fee"
      },
      "source": [
        "#若overfitting話\n",
        "#進行機器學習的時候，就需區分 訓練用data(總資料的80%) 以及 測試用data(總資料的20%)，\n",
        "#train_test_split，自動亂數取出總資料的20%，當測試的時候用\n",
        "#測試用data不會參與訓練的過程\n",
        "from sklearn.model_selection import train_test_split\n",
        "\n",
        "#train_test_split會自動把資料分類為 x_train, x_test, y_train, y_test\n",
        "#測試資料佔的比例暫訂為20%, 因此test_size = 0.2\n",
        "#random_state請輸入一個隨便的數字\n",
        "x_train, x_test, y_train, y_test = train_test_split(x,y,\n",
        "                                                    test_size = 0.2,\n",
        "                                                    random_state=87\n",
        "                                                   )\n",
        "#確認x_train的大小\n",
        "len(x_train)"
      ],
      "execution_count": null,
      "outputs": [
        {
          "output_type": "execute_result",
          "data": {
            "text/plain": [
              "80"
            ]
          },
          "metadata": {
            "tags": []
          },
          "execution_count": 2
        }
      ]
    },
    {
      "cell_type": "code",
      "metadata": {
        "id": "bYaGFN6_yPWx",
        "colab_type": "code",
        "colab": {
          "base_uri": "https://localhost:8080/",
          "height": 33
        },
        "outputId": "38d5929e-32af-486f-969e-ec92e84c9ca8"
      },
      "source": [
        "print(x_train[0])"
      ],
      "execution_count": null,
      "outputs": [
        {
          "output_type": "stream",
          "text": [
            "[3.38383838]\n"
          ],
          "name": "stdout"
        }
      ]
    },
    {
      "cell_type": "code",
      "metadata": {
        "id": "ZwXUyvpExlCz",
        "colab_type": "code",
        "colab": {}
      },
      "source": [
        "#然後把分類後的四個array轉製成80x1, 才能作訓練\n",
        "#以後要是使用sklearn直接提供的真實世界的資料的話，不要再做轉置矩陣的動作！\n",
        "x_train = x_train.reshape(80,1)\n",
        "x_test.shape = (20,1)\n",
        "y_train = y_train.reshape(80,1)\n",
        "y_test = y_test.reshape(20,1)"
      ],
      "execution_count": null,
      "outputs": []
    },
    {
      "cell_type": "code",
      "metadata": {
        "id": "lEfl5HBmxn6Y",
        "colab_type": "code",
        "colab": {}
      },
      "source": [
        "#首先開一台線性回歸機\n",
        "regr = LinearRegression()\n",
        "\n",
        "#以訓練資料來做訓練\n",
        "regr.fit(x_train,y_train)\n",
        "y_train_result = regr.predict(x_train)"
      ],
      "execution_count": null,
      "outputs": []
    },
    {
      "cell_type": "code",
      "metadata": {
        "id": "G5OfmkKhyKdw",
        "colab_type": "code",
        "colab": {
          "base_uri": "https://localhost:8080/",
          "height": 281
        },
        "outputId": "36e5c6a9-764e-4efe-e260-f6d4ea0e0bee"
      },
      "source": [
        "#然後就可以來檢查是否機器學習出來的曲線是否跟原本的曲線接近\n",
        "#這就是訓練資料產生的預測曲線\n",
        "#當然自己訓練出來的曲線，一定會很相近的\n",
        "plt.scatter(x_train,y_train)\n",
        "plt.plot(x_train,y_train_result,'r')"
      ],
      "execution_count": null,
      "outputs": [
        {
          "output_type": "execute_result",
          "data": {
            "text/plain": [
              "[<matplotlib.lines.Line2D at 0x7f7594d75eb8>]"
            ]
          },
          "metadata": {
            "tags": []
          },
          "execution_count": 9
        },
        {
          "output_type": "display_data",
          "data": {
            "image/png": "[encoded data removed]",
            "text/plain": [
              "<Figure size 432x288 with 1 Axes>"
            ]
          },
          "metadata": {
            "tags": [],
            "needs_background": "light"
          }
        }
      ]
    },
    {
      "cell_type": "code",
      "metadata": {
        "id": "VeT9NInByWQH",
        "colab_type": "code",
        "colab": {
          "base_uri": "https://localhost:8080/",
          "height": 281
        },
        "outputId": "b9113206-bb8c-4304-d061-9d4bc448267d"
      },
      "source": [
        "#接下來拿測試資料與剛才預測出來的曲線做比較，檢查是否接近？\n",
        "#注意這裡的regr.predict(x_test)，帶入的參數是x_test\n",
        "#這樣才是把 測試的點代入預測曲線 的方式\n",
        "plt.scatter(x_test,y_test)\n",
        "plt.plot(x_test,regr.predict(x_test),'r')\n",
        "#看起來還蠻精準的！表示此線性回歸成功！Skikit讚！"
      ],
      "execution_count": null,
      "outputs": [
        {
          "output_type": "execute_result",
          "data": {
            "text/plain": [
              "[<matplotlib.lines.Line2D at 0x7f7594781c18>]"
            ]
          },
          "metadata": {
            "tags": []
          },
          "execution_count": 10
        },
        {
          "output_type": "display_data",
          "data": {
            "image/png": "[encoded data removed]",
            "text/plain": [
              "<Figure size 432x288 with 1 Axes>"
            ]
          },
          "metadata": {
            "tags": [],
            "needs_background": "light"
          }
        }
      ]
    },
    {
      "cell_type": "code",
      "metadata": {
        "id": "Wob5MF2FyYft",
        "colab_type": "code",
        "colab": {}
      },
      "source": [
        ""
      ],
      "execution_count": null,
      "outputs": []
    }
  ]
}